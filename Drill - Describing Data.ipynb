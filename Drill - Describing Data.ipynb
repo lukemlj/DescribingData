{
 "cells": [
  {
   "cell_type": "markdown",
   "metadata": {},
   "source": [
    "Question 1.\n",
    "Greg was 14, Marcia was 12, Peter was 11, Jan was 10, Bobby was 8, and Cindy was 6 when they started playing the Brady kids on The Brady Bunch. Cousin Oliver was 8 years old when he joined the show. What are the mean, median, and mode of the kids' ages when they first appeared on the show? What are the variance, standard deviation, and standard error?"
   ]
  },
  {
   "cell_type": "code",
   "execution_count": 11,
   "metadata": {
    "collapsed": true
   },
   "outputs": [],
   "source": [
    "import pandas as pd\n",
    "import numpy as np\n",
    "import statistics"
   ]
  },
  {
   "cell_type": "code",
   "execution_count": 39,
   "metadata": {
    "collapsed": false,
    "scrolled": true
   },
   "outputs": [
    {
     "name": "stdout",
     "output_type": "stream",
     "text": [
      "The mean is 9.857142857142858\n",
      "The median is 10\n",
      "Two kids are 8 years old, so 8 is the mode\n",
      "The variance is 7.476190476190475\n",
      "The standard deviation is 2.734262327610589\n",
      "The standard error is 1.0334540197243192\n"
     ]
    }
   ],
   "source": [
    "# Mean\n",
    "mean = (14 + 12 + 11 + 10 + 8 + 8 + 6)/7\n",
    "print(\"The mean is \" + str(mean))\n",
    "\n",
    "# Median\n",
    "# Middle value (or average of two middle values if n is odd)\n",
    "median = 10\n",
    "print(\"The median is \" + str(median))\n",
    "\n",
    "# Mode\n",
    "# Value which occurs most\n",
    "print(\"Two kids are 8 years old, so 8 is the mode.\")\n",
    "\n",
    "# Variance\n",
    "v = ((14 - mean)**2 + (12 - mean)**2 + (11 - mean)**2 + (10 - mean)**2 + (8 - mean)**2 + (8 - mean)**2 + (6 - mean)**2)/(7-1)\n",
    "print(\"The variance is \" + str(v))\n",
    "\n",
    "# Standard Deviation\n",
    "s = v ** 0.5\n",
    "print(\"The standard deviation is \" + str(s))\n",
    "\n",
    "# Standard Error\n",
    "se = s / (7 ** 0.5)\n",
    "print(\"The standard error is \" + str(se))"
   ]
  },
  {
   "cell_type": "code",
   "execution_count": 41,
   "metadata": {
    "collapsed": false,
    "scrolled": true
   },
   "outputs": [
    {
     "name": "stdout",
     "output_type": "stream",
     "text": [
      "Using numpy, the mean is 9.857142857142858\n",
      "Using numpy, the median is 10.0\n",
      "Using the statistics package, the mode is 8\n",
      "Using numpy, the variance is 7.476190476190475\n",
      "Using numpy, the standard deviation is 2.734262327610589\n",
      "Using numpy, the standard error is 1.03345401972\n"
     ]
    }
   ],
   "source": [
    "df = pd.DataFrame()\n",
    "df['age'] = [14, 12, 11, 10, 8, 8, 6]\n",
    "\n",
    "# Mean\n",
    "print(\"Using numpy, the mean is \" + str(np.mean(df['age'])))\n",
    "\n",
    "# Median\n",
    "print(\"Using numpy, the median is \" + str(np.median(df['age'])))\n",
    "\n",
    "# Mode\n",
    "print(\"Using the statistics package, the mode is \" + str(statistics.mode(df['age'])))\n",
    "\n",
    "# Variance\n",
    "print(\"Using numpy, the variance is \" + str(np.var(df['age'], ddof=1)))\n",
    "\n",
    "# Standard Deviation\n",
    "print(\"Using numpy, the standard deviation is \" + str(np.std(df['age'], ddof=1)))\n",
    "\n",
    "# Standard Error\n",
    "print(\"Using numpy, the standard error is \" + str(np.std(df['age'] ,ddof=1) / np.sqrt(len(df['age']))))"
   ]
  },
  {
   "cell_type": "markdown",
   "metadata": {},
   "source": [
    "Question 2.\n",
    "Using these estimates, if you had to choose only one estimate of central tendency and one estimate of variance to describe the data, which would you pick and why?\n",
    "\n",
    "For this data, the mean and the median are fairly close. The mode is not useful in this case. If you are concerned about outliers, the median tends to be less affected by outliers than the mean. We don't have significant outliers with this data, so I'd personally go with the mean since the idea of an average makes intuitive sense to me. Also, many calculations involving the mean are more straightforward. And, estimates of variance depend on the mean. In the case of standard error, it \"quantifies the uncertainity in the estimate of the sample mean.\"  So it makes sense to talk about both at the same time.\n",
    "\n",
    "Generally, standard error and standard deviation are more useful estimates of variability in the data because they have the same units as the original data (unlike variance which is the units squared). If you're more interested in the variability in the population, then using the standard deviation is probably more useful. If you're more interested in the precision of the sample mean, then using the standard error is probably better."
   ]
  },
  {
   "cell_type": "markdown",
   "metadata": {},
   "source": [
    "Question 3.\n",
    "Next, Cindy has a birthday. Update your estimates- what changed, and what didn't?"
   ]
  },
  {
   "cell_type": "code",
   "execution_count": 42,
   "metadata": {
    "collapsed": false
   },
   "outputs": [
    {
     "name": "stdout",
     "output_type": "stream",
     "text": [
      "Using numpy, the mean is 10.0\n",
      "Using numpy, the median is 10.0\n",
      "Using the statistics package, the mode is 8\n",
      "Using numpy, the variance is 6.333333333333333\n",
      "Using numpy, the standard deviation is 2.516611478423583\n",
      "Using numpy, the standard error is 0.951189731211\n"
     ]
    }
   ],
   "source": [
    "df = pd.DataFrame()\n",
    "df['age'] = [14, 12, 11, 10, 8, 8, 7]\n",
    "\n",
    "# Mean\n",
    "print(\"Using numpy, the mean is \" + str(np.mean(df['age'])))\n",
    "\n",
    "# Median\n",
    "print(\"Using numpy, the median is \" + str(np.median(df['age'])))\n",
    "\n",
    "# Mode\n",
    "print(\"Using the statistics package, the mode is \" + str(statistics.mode(df['age'])))\n",
    "\n",
    "# Variance\n",
    "print(\"Using numpy, the variance is \" + str(np.var(df['age'], ddof=1)))\n",
    "\n",
    "# Standard Deviation\n",
    "print(\"Using numpy, the standard deviation is \" + str(np.std(df['age'], ddof=1)))\n",
    "\n",
    "# Standard Error\n",
    "print(\"Using numpy, the standard error is \" + str(np.std(df['age'] ,ddof=1) / np.sqrt(len(df['age']))))"
   ]
  },
  {
   "cell_type": "markdown",
   "metadata": {},
   "source": [
    "Everything changed except for the median and mode. "
   ]
  },
  {
   "cell_type": "markdown",
   "metadata": {},
   "source": [
    "Question 4.\n",
    "Nobody likes Cousin Oliver. Maybe the network should have used an even younger actor. Replace Cousin Oliver with 1-year-old Jessica, then recalculate again. Does this change your choice of central tendency or variance estimation methods?"
   ]
  },
  {
   "cell_type": "code",
   "execution_count": 44,
   "metadata": {
    "collapsed": false
   },
   "outputs": [
    {
     "name": "stdout",
     "output_type": "stream",
     "text": [
      "Using numpy, the mean is 9.0\n",
      "Using numpy, the median is 10.0\n",
      "Using the statistics package, the mode method returned an error because there is no unique mode.\n",
      "Using numpy, the variance is 18.0\n",
      "Using numpy, the standard deviation is 4.242640687119285\n",
      "Using numpy, the standard error is 1.60356745147\n"
     ]
    }
   ],
   "source": [
    "df = pd.DataFrame()\n",
    "df['age'] = [14, 12, 11, 10, 8, 1, 7]\n",
    "\n",
    "# Mean\n",
    "print(\"Using numpy, the mean is \" + str(np.mean(df['age'])))\n",
    "\n",
    "# Median\n",
    "print(\"Using numpy, the median is \" + str(np.median(df['age'])))\n",
    "\n",
    "# Mode\n",
    "# print(\"Using the statistics package, the mode is \" + str(statistics.mode(df['age'])))\n",
    "print(\"Using the statistics package, the mode method returned an error because there is no unique mode.\")\n",
    "\n",
    "# Variance\n",
    "print(\"Using numpy, the variance is \" + str(np.var(df['age'], ddof=1)))\n",
    "\n",
    "# Standard Deviation\n",
    "print(\"Using numpy, the standard deviation is \" + str(np.std(df['age'], ddof=1)))\n",
    "\n",
    "# Standard Error\n",
    "print(\"Using numpy, the standard error is \" + str(np.std(df['age'] ,ddof=1) / np.sqrt(len(df['age']))))"
   ]
  },
  {
   "cell_type": "markdown",
   "metadata": {},
   "source": [
    "1-year-old Jessica is a bit of an outlier. The mean changes from 10 to 9. The variance jumps to 18. I'm not sure if these changes would affect my choice of of central tendency or variance estimation methods, but one should definitely keep these changes in mind when performing any kind of analysis. "
   ]
  },
  {
   "cell_type": "markdown",
   "metadata": {},
   "source": [
    "Question 5.\n",
    "On the 50th anniversary of The Brady Bunch, four different magazines asked their readers whether they were fans of the show. The answers were: TV Guide 20% fans Entertainment Weekly 23% fans Pop Culture Today 17% fans SciPhi Phanatic 5% fans\n",
    "Based on these numbers, what percentage of adult Americans would you estimate were Brady Bunch fans on the 50th anniversary of the show?"
   ]
  },
  {
   "cell_type": "markdown",
   "metadata": {},
   "source": [
    "You could take the average of the percentages, but if you're trying to estimate the percentage of adult Americans, I'm not sure including the SciPhi percentage makes sense as those readers are probably not representative of adult Americans in general. I'd probably go with an average of the other three publications which yields 20% of Americans. However, this might be unwise because those averages don't indicate the number of readers polled for each publication. "
   ]
  }
 ],
 "metadata": {
  "kernelspec": {
   "display_name": "Python 3",
   "language": "python",
   "name": "python3"
  },
  "language_info": {
   "codemirror_mode": {
    "name": "ipython",
    "version": 3
   },
   "file_extension": ".py",
   "mimetype": "text/x-python",
   "name": "python",
   "nbconvert_exporter": "python",
   "pygments_lexer": "ipython3",
   "version": "3.6.0"
  }
 },
 "nbformat": 4,
 "nbformat_minor": 2
}
